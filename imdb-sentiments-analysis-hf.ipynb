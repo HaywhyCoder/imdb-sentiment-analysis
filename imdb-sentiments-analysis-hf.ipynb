{
  "metadata": {
    "kernelspec": {
      "display_name": "Python 3",
      "name": "python3"
    },
    "language_info": {
      "pygments_lexer": "ipython3",
      "nbconvert_exporter": "python",
      "version": "3.6.4",
      "file_extension": ".py",
      "codemirror_mode": {
        "name": "ipython",
        "version": 3
      },
      "name": "python",
      "mimetype": "text/x-python"
    },
    "kaggle": {
      "accelerator": "none",
      "dataSources": [
        {
          "sourceId": 2700597,
          "sourceType": "datasetVersion",
          "datasetId": 1644785
        }
      ],
      "isInternetEnabled": true,
      "language": "python",
      "sourceType": "notebook",
      "isGpuEnabled": false
    },
    "colab": {
      "provenance": [],
      "gpuType": "T4",
      "include_colab_link": true
    },
    "accelerator": "GPU"
  },
  "nbformat_minor": 0,
  "nbformat": 4,
  "cells": [
    {
      "cell_type": "markdown",
      "metadata": {
        "id": "view-in-github",
        "colab_type": "text"
      },
      "source": [
        "<a href=\"https://colab.research.google.com/github/HaywhyCoder/imdb-sentiment-analysis/blob/main/imdb-sentiments-analysis-hf.ipynb\" target=\"_parent\"><img src=\"https://colab.research.google.com/assets/colab-badge.svg\" alt=\"Open In Colab\"/></a>"
      ]
    },
    {
      "source": [
        "# IMPORTANT: RUN THIS CELL IN ORDER TO IMPORT YOUR KAGGLE DATA SOURCES,\n",
        "# THEN FEEL FREE TO DELETE THIS CELL.\n",
        "# NOTE: THIS NOTEBOOK ENVIRONMENT DIFFERS FROM KAGGLE'S PYTHON\n",
        "# ENVIRONMENT SO THERE MAY BE MISSING LIBRARIES USED BY YOUR\n",
        "# NOTEBOOK.\n",
        "import kagglehub\n",
        "arunlokanatha_imdb_sentiment_analysis_path = kagglehub.dataset_download('arunlokanatha/imdb-sentiment-analysis')\n",
        "\n",
        "print('Data source import complete.')\n"
      ],
      "metadata": {
        "id": "MXBQ_qQU8kli",
        "outputId": "0c93e156-1cdd-4f3f-ac87-ca3e68719339",
        "colab": {
          "base_uri": "https://localhost:8080/"
        }
      },
      "cell_type": "code",
      "outputs": [
        {
          "output_type": "stream",
          "name": "stdout",
          "text": [
            "Warning: Looks like you're using an outdated `kagglehub` version (installed: 0.3.11), please consider upgrading to the latest version (0.3.12).\n",
            "Downloading from https://www.kaggle.com/api/v1/datasets/download/arunlokanatha/imdb-sentiment-analysis?dataset_version_number=1...\n"
          ]
        },
        {
          "output_type": "stream",
          "name": "stderr",
          "text": [
            "100%|██████████| 432k/432k [00:00<00:00, 625kB/s]"
          ]
        },
        {
          "output_type": "stream",
          "name": "stdout",
          "text": [
            "Extracting files...\n",
            "Data source import complete.\n"
          ]
        },
        {
          "output_type": "stream",
          "name": "stderr",
          "text": [
            "\n"
          ]
        }
      ],
      "execution_count": null
    },
    {
      "cell_type": "markdown",
      "source": [
        "#### Import Libraries"
      ],
      "metadata": {
        "id": "H1Ohn1aq-cBl"
      }
    },
    {
      "cell_type": "code",
      "source": [
        "# ML Libraries\n",
        "import pandas as pd\n",
        "import numpy as np\n",
        "from sklearn.metrics import classification_report, confusion_matrix\n",
        "from sklearn.model_selection import train_test_split\n",
        "from sklearn.preprocessing import LabelEncoder\n",
        "import matplotlib.pyplot as plt\n",
        "import seaborn as sns\n",
        "\n",
        "sns.set()\n",
        "\n",
        "# NLP\n",
        "import tensorflow as tf\n",
        "import nltk\n",
        "from nltk.stem import WordNetLemmatizer\n",
        "from nltk.corpus import stopwords\n",
        "from transformers import pipeline\n",
        "from bs4 import BeautifulSoup\n",
        "import re\n",
        "\n",
        "# Suppress warnings\n",
        "from warnings import filterwarnings\n",
        "filterwarnings('ignore')"
      ],
      "metadata": {
        "id": "zrY3l824-fsl"
      },
      "execution_count": null,
      "outputs": []
    },
    {
      "cell_type": "code",
      "source": [
        "nltk.download('stopwords')\n",
        "nltk.download('punkt')\n",
        "nltk.download('wordnet')"
      ],
      "metadata": {
        "colab": {
          "base_uri": "https://localhost:8080/"
        },
        "id": "Wg_e2aWLmAWi",
        "outputId": "4adba55c-381e-4b18-ebb2-547c5eea9912"
      },
      "execution_count": null,
      "outputs": [
        {
          "output_type": "stream",
          "name": "stderr",
          "text": [
            "[nltk_data] Downloading package stopwords to /root/nltk_data...\n",
            "[nltk_data]   Package stopwords is already up-to-date!\n",
            "[nltk_data] Downloading package punkt to /root/nltk_data...\n",
            "[nltk_data]   Unzipping tokenizers/punkt.zip.\n",
            "[nltk_data] Downloading package wordnet to /root/nltk_data...\n"
          ]
        },
        {
          "output_type": "execute_result",
          "data": {
            "text/plain": [
              "True"
            ]
          },
          "metadata": {},
          "execution_count": 19
        }
      ]
    },
    {
      "cell_type": "markdown",
      "source": [
        "#### Load the Dataset"
      ],
      "metadata": {
        "id": "WbJYdEME-kRS"
      }
    },
    {
      "cell_type": "code",
      "source": [
        "train = pd.read_csv(\"/root/.cache/kagglehub/datasets/arunlokanatha/imdb-sentiment-analysis/versions/1/train_min.csv\", index_col=0)"
      ],
      "metadata": {
        "id": "D5gQIev69_T5"
      },
      "execution_count": null,
      "outputs": []
    },
    {
      "cell_type": "code",
      "source": [
        "train.head()"
      ],
      "metadata": {
        "colab": {
          "base_uri": "https://localhost:8080/",
          "height": 206
        },
        "id": "x-hSRZ6-9_Qh",
        "outputId": "e8b3967a-a743-46cf-8c31-4d674ed3bc21"
      },
      "execution_count": null,
      "outputs": [
        {
          "output_type": "execute_result",
          "data": {
            "text/plain": [
              "                                                text  label\n",
              "0  I grew up (b. 1965) watching and loving the Th...      0\n",
              "1  When I put this movie in my DVD player, and sa...      0\n",
              "2  Why do people who do not know what a particula...      0\n",
              "3  Even though I have great interest in Biblical ...      0\n",
              "4  Im a die hard Dads Army fan and nothing will e...      1"
            ],
            "text/html": [
              "\n",
              "  <div id=\"df-62d258f7-1da9-4a68-9311-ff550c12c65a\" class=\"colab-df-container\">\n",
              "    <div>\n",
              "<style scoped>\n",
              "    .dataframe tbody tr th:only-of-type {\n",
              "        vertical-align: middle;\n",
              "    }\n",
              "\n",
              "    .dataframe tbody tr th {\n",
              "        vertical-align: top;\n",
              "    }\n",
              "\n",
              "    .dataframe thead th {\n",
              "        text-align: right;\n",
              "    }\n",
              "</style>\n",
              "<table border=\"1\" class=\"dataframe\">\n",
              "  <thead>\n",
              "    <tr style=\"text-align: right;\">\n",
              "      <th></th>\n",
              "      <th>text</th>\n",
              "      <th>label</th>\n",
              "    </tr>\n",
              "  </thead>\n",
              "  <tbody>\n",
              "    <tr>\n",
              "      <th>0</th>\n",
              "      <td>I grew up (b. 1965) watching and loving the Th...</td>\n",
              "      <td>0</td>\n",
              "    </tr>\n",
              "    <tr>\n",
              "      <th>1</th>\n",
              "      <td>When I put this movie in my DVD player, and sa...</td>\n",
              "      <td>0</td>\n",
              "    </tr>\n",
              "    <tr>\n",
              "      <th>2</th>\n",
              "      <td>Why do people who do not know what a particula...</td>\n",
              "      <td>0</td>\n",
              "    </tr>\n",
              "    <tr>\n",
              "      <th>3</th>\n",
              "      <td>Even though I have great interest in Biblical ...</td>\n",
              "      <td>0</td>\n",
              "    </tr>\n",
              "    <tr>\n",
              "      <th>4</th>\n",
              "      <td>Im a die hard Dads Army fan and nothing will e...</td>\n",
              "      <td>1</td>\n",
              "    </tr>\n",
              "  </tbody>\n",
              "</table>\n",
              "</div>\n",
              "    <div class=\"colab-df-buttons\">\n",
              "\n",
              "  <div class=\"colab-df-container\">\n",
              "    <button class=\"colab-df-convert\" onclick=\"convertToInteractive('df-62d258f7-1da9-4a68-9311-ff550c12c65a')\"\n",
              "            title=\"Convert this dataframe to an interactive table.\"\n",
              "            style=\"display:none;\">\n",
              "\n",
              "  <svg xmlns=\"http://www.w3.org/2000/svg\" height=\"24px\" viewBox=\"0 -960 960 960\">\n",
              "    <path d=\"M120-120v-720h720v720H120Zm60-500h600v-160H180v160Zm220 220h160v-160H400v160Zm0 220h160v-160H400v160ZM180-400h160v-160H180v160Zm440 0h160v-160H620v160ZM180-180h160v-160H180v160Zm440 0h160v-160H620v160Z\"/>\n",
              "  </svg>\n",
              "    </button>\n",
              "\n",
              "  <style>\n",
              "    .colab-df-container {\n",
              "      display:flex;\n",
              "      gap: 12px;\n",
              "    }\n",
              "\n",
              "    .colab-df-convert {\n",
              "      background-color: #E8F0FE;\n",
              "      border: none;\n",
              "      border-radius: 50%;\n",
              "      cursor: pointer;\n",
              "      display: none;\n",
              "      fill: #1967D2;\n",
              "      height: 32px;\n",
              "      padding: 0 0 0 0;\n",
              "      width: 32px;\n",
              "    }\n",
              "\n",
              "    .colab-df-convert:hover {\n",
              "      background-color: #E2EBFA;\n",
              "      box-shadow: 0px 1px 2px rgba(60, 64, 67, 0.3), 0px 1px 3px 1px rgba(60, 64, 67, 0.15);\n",
              "      fill: #174EA6;\n",
              "    }\n",
              "\n",
              "    .colab-df-buttons div {\n",
              "      margin-bottom: 4px;\n",
              "    }\n",
              "\n",
              "    [theme=dark] .colab-df-convert {\n",
              "      background-color: #3B4455;\n",
              "      fill: #D2E3FC;\n",
              "    }\n",
              "\n",
              "    [theme=dark] .colab-df-convert:hover {\n",
              "      background-color: #434B5C;\n",
              "      box-shadow: 0px 1px 3px 1px rgba(0, 0, 0, 0.15);\n",
              "      filter: drop-shadow(0px 1px 2px rgba(0, 0, 0, 0.3));\n",
              "      fill: #FFFFFF;\n",
              "    }\n",
              "  </style>\n",
              "\n",
              "    <script>\n",
              "      const buttonEl =\n",
              "        document.querySelector('#df-62d258f7-1da9-4a68-9311-ff550c12c65a button.colab-df-convert');\n",
              "      buttonEl.style.display =\n",
              "        google.colab.kernel.accessAllowed ? 'block' : 'none';\n",
              "\n",
              "      async function convertToInteractive(key) {\n",
              "        const element = document.querySelector('#df-62d258f7-1da9-4a68-9311-ff550c12c65a');\n",
              "        const dataTable =\n",
              "          await google.colab.kernel.invokeFunction('convertToInteractive',\n",
              "                                                    [key], {});\n",
              "        if (!dataTable) return;\n",
              "\n",
              "        const docLinkHtml = 'Like what you see? Visit the ' +\n",
              "          '<a target=\"_blank\" href=https://colab.research.google.com/notebooks/data_table.ipynb>data table notebook</a>'\n",
              "          + ' to learn more about interactive tables.';\n",
              "        element.innerHTML = '';\n",
              "        dataTable['output_type'] = 'display_data';\n",
              "        await google.colab.output.renderOutput(dataTable, element);\n",
              "        const docLink = document.createElement('div');\n",
              "        docLink.innerHTML = docLinkHtml;\n",
              "        element.appendChild(docLink);\n",
              "      }\n",
              "    </script>\n",
              "  </div>\n",
              "\n",
              "\n",
              "    <div id=\"df-875f716f-ddb9-4082-bf15-1e866a4863c1\">\n",
              "      <button class=\"colab-df-quickchart\" onclick=\"quickchart('df-875f716f-ddb9-4082-bf15-1e866a4863c1')\"\n",
              "                title=\"Suggest charts\"\n",
              "                style=\"display:none;\">\n",
              "\n",
              "<svg xmlns=\"http://www.w3.org/2000/svg\" height=\"24px\"viewBox=\"0 0 24 24\"\n",
              "     width=\"24px\">\n",
              "    <g>\n",
              "        <path d=\"M19 3H5c-1.1 0-2 .9-2 2v14c0 1.1.9 2 2 2h14c1.1 0 2-.9 2-2V5c0-1.1-.9-2-2-2zM9 17H7v-7h2v7zm4 0h-2V7h2v10zm4 0h-2v-4h2v4z\"/>\n",
              "    </g>\n",
              "</svg>\n",
              "      </button>\n",
              "\n",
              "<style>\n",
              "  .colab-df-quickchart {\n",
              "      --bg-color: #E8F0FE;\n",
              "      --fill-color: #1967D2;\n",
              "      --hover-bg-color: #E2EBFA;\n",
              "      --hover-fill-color: #174EA6;\n",
              "      --disabled-fill-color: #AAA;\n",
              "      --disabled-bg-color: #DDD;\n",
              "  }\n",
              "\n",
              "  [theme=dark] .colab-df-quickchart {\n",
              "      --bg-color: #3B4455;\n",
              "      --fill-color: #D2E3FC;\n",
              "      --hover-bg-color: #434B5C;\n",
              "      --hover-fill-color: #FFFFFF;\n",
              "      --disabled-bg-color: #3B4455;\n",
              "      --disabled-fill-color: #666;\n",
              "  }\n",
              "\n",
              "  .colab-df-quickchart {\n",
              "    background-color: var(--bg-color);\n",
              "    border: none;\n",
              "    border-radius: 50%;\n",
              "    cursor: pointer;\n",
              "    display: none;\n",
              "    fill: var(--fill-color);\n",
              "    height: 32px;\n",
              "    padding: 0;\n",
              "    width: 32px;\n",
              "  }\n",
              "\n",
              "  .colab-df-quickchart:hover {\n",
              "    background-color: var(--hover-bg-color);\n",
              "    box-shadow: 0 1px 2px rgba(60, 64, 67, 0.3), 0 1px 3px 1px rgba(60, 64, 67, 0.15);\n",
              "    fill: var(--button-hover-fill-color);\n",
              "  }\n",
              "\n",
              "  .colab-df-quickchart-complete:disabled,\n",
              "  .colab-df-quickchart-complete:disabled:hover {\n",
              "    background-color: var(--disabled-bg-color);\n",
              "    fill: var(--disabled-fill-color);\n",
              "    box-shadow: none;\n",
              "  }\n",
              "\n",
              "  .colab-df-spinner {\n",
              "    border: 2px solid var(--fill-color);\n",
              "    border-color: transparent;\n",
              "    border-bottom-color: var(--fill-color);\n",
              "    animation:\n",
              "      spin 1s steps(1) infinite;\n",
              "  }\n",
              "\n",
              "  @keyframes spin {\n",
              "    0% {\n",
              "      border-color: transparent;\n",
              "      border-bottom-color: var(--fill-color);\n",
              "      border-left-color: var(--fill-color);\n",
              "    }\n",
              "    20% {\n",
              "      border-color: transparent;\n",
              "      border-left-color: var(--fill-color);\n",
              "      border-top-color: var(--fill-color);\n",
              "    }\n",
              "    30% {\n",
              "      border-color: transparent;\n",
              "      border-left-color: var(--fill-color);\n",
              "      border-top-color: var(--fill-color);\n",
              "      border-right-color: var(--fill-color);\n",
              "    }\n",
              "    40% {\n",
              "      border-color: transparent;\n",
              "      border-right-color: var(--fill-color);\n",
              "      border-top-color: var(--fill-color);\n",
              "    }\n",
              "    60% {\n",
              "      border-color: transparent;\n",
              "      border-right-color: var(--fill-color);\n",
              "    }\n",
              "    80% {\n",
              "      border-color: transparent;\n",
              "      border-right-color: var(--fill-color);\n",
              "      border-bottom-color: var(--fill-color);\n",
              "    }\n",
              "    90% {\n",
              "      border-color: transparent;\n",
              "      border-bottom-color: var(--fill-color);\n",
              "    }\n",
              "  }\n",
              "</style>\n",
              "\n",
              "      <script>\n",
              "        async function quickchart(key) {\n",
              "          const quickchartButtonEl =\n",
              "            document.querySelector('#' + key + ' button');\n",
              "          quickchartButtonEl.disabled = true;  // To prevent multiple clicks.\n",
              "          quickchartButtonEl.classList.add('colab-df-spinner');\n",
              "          try {\n",
              "            const charts = await google.colab.kernel.invokeFunction(\n",
              "                'suggestCharts', [key], {});\n",
              "          } catch (error) {\n",
              "            console.error('Error during call to suggestCharts:', error);\n",
              "          }\n",
              "          quickchartButtonEl.classList.remove('colab-df-spinner');\n",
              "          quickchartButtonEl.classList.add('colab-df-quickchart-complete');\n",
              "        }\n",
              "        (() => {\n",
              "          let quickchartButtonEl =\n",
              "            document.querySelector('#df-875f716f-ddb9-4082-bf15-1e866a4863c1 button');\n",
              "          quickchartButtonEl.style.display =\n",
              "            google.colab.kernel.accessAllowed ? 'block' : 'none';\n",
              "        })();\n",
              "      </script>\n",
              "    </div>\n",
              "\n",
              "    </div>\n",
              "  </div>\n"
            ],
            "application/vnd.google.colaboratory.intrinsic+json": {
              "type": "dataframe",
              "variable_name": "train",
              "summary": "{\n  \"name\": \"train\",\n  \"rows\": 600,\n  \"fields\": [\n    {\n      \"column\": \"text\",\n      \"properties\": {\n        \"dtype\": \"string\",\n        \"num_unique_values\": 600,\n        \"samples\": [\n          \"I just finished watching this movie. I was very excited since I'm a big fan of Punk Rock, Horror films and Spoofs. I was very surprised at what I saw. I knew it was low budget, but I wasn't expecting it to be taped with a video camera. It opens with a good song and a great, very underrated band, The Horrorpops, reforming their song, Where They Wander, and promptly getting killed in various gruesome ways. It's a great opening. But the problem is the fact that, up until the end, this was really all that the movie was. A live performance, A death. Another live performance, A death. It gets old. And there is a gross(literally) overuse of intestines in the death scenes. Why doesn't the killer use other body parts, like legs, or eyeballs, or brains? Don't get me wrong, this movie has some parts that are awesome. Like the hardcore French band, known simply as BERET, the prospect of a band named Atticus, the scene containing a performance by members of the The Used and Simple Plan playing together, since neither bands had enough members to play their show, and Bowling For Soup's Overweight-and-proud-of-it guitarist getting killed in a truly hilarious manner, that I will save for the future watchers of this movie. But the big problem I have with this movie is the at first comical, but after a while, terrible lack of acting talent in a lot of the \\\"actors\\\". Especially Warped Tour creator, Kevin Lyman. He tries very hard, but I suspect that he didn't want to make the film, but was contractually obligated or something. In addition to that, the sound quality is terrible and there are no subtitles on the DVD. The Movie's resolving plot is very hazy and very random. something about a magic sword and Lloyd Kaufman as the devil. Bottom line, this movie has a lot of good qualities, but not enough to be anywhere near a decent Horror, Music, or Comedy film. Although I have to credit it with turning me onto a few bands that I would never have listened to, otherwise. Such as Tsunami Bomb, and the Phenomonauts(an insane, Psychobilly band). I recommend that you rent this movie, watch the first 10 or 20 minutes, if you like it, watch the next 20 or 30, if you still like it, then watch on. If not, just go to the special features and watch all the music videos and live performances. They rock! Long live Punk Rock and Horror!\",\n          \"This is a great film for McCartney's and Beatles fans!A splendid time is guaranteed for all.The audience (feat some celebrities such as Nicholson ,Cuzak,Michael Douglas) is ,as always,quite amazing:from small children to old campaigners of the sixties.They know the words to all the songs by heart ,and some of them are crying when Paul breaks into \\\"blackbird\\\" \\\"yesterday \\\" \\\"all my loving\\\" and all the treasures of his catalog (who ,except John Lennon and Dylan ,can claim such a repertoire?).There are two particularly moving moments:<br /><br />-The double tribute to Lennon and Harrison;first \\\"here today\\\" performed solo (the title was included in \\\"tug of war\\\" 1982 and was its best track),then \\\"something\\\" when Paul uses an ukulele.<br /><br />-\\\"The long and winding road\\\" rendition,a key moment,when Paul's voice cracks ,as he is moved to tears by the hearts the members of the tour crew hold in front of the stage.<br /><br />I remember,in the early seventies ,when people used to despise Paul ,cause he was not involved in politics,as his ex-partner was.They had to change their mind for Paul is a committed artist: \\\"fame is great cause it allows charity\\\".The film shows different aspects of Paul's activities ,an artist who is anything but selfish.\",\n          \"If your looking for a movie with fantastic music, nice cast and a storyline that is not to difficult to understand; FAME is for you.<br /><br />I have several scenes that i love in this movie; some make you laugh, others make you contemplative. The editing i think is wonderful, really fast and often funny. Shure, maybe there would have been some more potential in the whole thing, all the story's stay somehow on the surface; maybe a bit too many characters are involved.But I don't care, because the real stars are...<br /><br />...the musical scenes! One of my favorites: the hot-lunch-jam sequence. That piece is just so raw, funky and filmed in a special way (handcamera-style in \\\"music-hell-breaking-loose\\\"), its just electrifying! I miss this raw energy in todays music-clips; the only similar energy I found perhaps in Bette Midlers \\\"the rose\\\", all of the concert footage.Its about capturing something \\\"wild\\\" that is \\\"realy\\\" happening, and not doing it just perfect; take by take.<br /><br />So, FAME is a wonderful nostalgia-trip to when synthesizers where heavy and walk-mans not available.I recommend it once a year; sure not for everyone.\"\n        ],\n        \"semantic_type\": \"\",\n        \"description\": \"\"\n      }\n    },\n    {\n      \"column\": \"label\",\n      \"properties\": {\n        \"dtype\": \"number\",\n        \"std\": 0,\n        \"min\": 0,\n        \"max\": 1,\n        \"num_unique_values\": 2,\n        \"samples\": [\n          1,\n          0\n        ],\n        \"semantic_type\": \"\",\n        \"description\": \"\"\n      }\n    }\n  ]\n}"
            }
          },
          "metadata": {},
          "execution_count": 52
        }
      ]
    },
    {
      "cell_type": "code",
      "source": [
        "train.info()"
      ],
      "metadata": {
        "colab": {
          "base_uri": "https://localhost:8080/"
        },
        "id": "DCQbbVOb9_LW",
        "outputId": "fee16678-d08e-4d96-9af1-8d5977ed6c91"
      },
      "execution_count": null,
      "outputs": [
        {
          "output_type": "stream",
          "name": "stdout",
          "text": [
            "<class 'pandas.core.frame.DataFrame'>\n",
            "Index: 600 entries, 0 to 599\n",
            "Data columns (total 2 columns):\n",
            " #   Column  Non-Null Count  Dtype \n",
            "---  ------  --------------  ----- \n",
            " 0   text    600 non-null    object\n",
            " 1   label   600 non-null    int64 \n",
            "dtypes: int64(1), object(1)\n",
            "memory usage: 14.1+ KB\n"
          ]
        }
      ]
    },
    {
      "cell_type": "code",
      "source": [
        "train['label'].value_counts()"
      ],
      "metadata": {
        "colab": {
          "base_uri": "https://localhost:8080/",
          "height": 178
        },
        "id": "uWneH8YM9_GT",
        "outputId": "3c1e4b7a-296a-4252-8a3a-4f71db6c8f5c"
      },
      "execution_count": null,
      "outputs": [
        {
          "output_type": "execute_result",
          "data": {
            "text/plain": [
              "label\n",
              "0    309\n",
              "1    291\n",
              "Name: count, dtype: int64"
            ],
            "text/html": [
              "<div>\n",
              "<style scoped>\n",
              "    .dataframe tbody tr th:only-of-type {\n",
              "        vertical-align: middle;\n",
              "    }\n",
              "\n",
              "    .dataframe tbody tr th {\n",
              "        vertical-align: top;\n",
              "    }\n",
              "\n",
              "    .dataframe thead th {\n",
              "        text-align: right;\n",
              "    }\n",
              "</style>\n",
              "<table border=\"1\" class=\"dataframe\">\n",
              "  <thead>\n",
              "    <tr style=\"text-align: right;\">\n",
              "      <th></th>\n",
              "      <th>count</th>\n",
              "    </tr>\n",
              "    <tr>\n",
              "      <th>label</th>\n",
              "      <th></th>\n",
              "    </tr>\n",
              "  </thead>\n",
              "  <tbody>\n",
              "    <tr>\n",
              "      <th>0</th>\n",
              "      <td>309</td>\n",
              "    </tr>\n",
              "    <tr>\n",
              "      <th>1</th>\n",
              "      <td>291</td>\n",
              "    </tr>\n",
              "  </tbody>\n",
              "</table>\n",
              "</div><br><label><b>dtype:</b> int64</label>"
            ]
          },
          "metadata": {},
          "execution_count": 54
        }
      ]
    },
    {
      "cell_type": "code",
      "source": [
        "train[train['text'].str.contains('<.*?>')]"
      ],
      "metadata": {
        "colab": {
          "base_uri": "https://localhost:8080/",
          "height": 423
        },
        "id": "4S4HYIyj9_Do",
        "outputId": "17fb7d4d-c9cb-490f-cb61-e9eea7ababbb"
      },
      "execution_count": null,
      "outputs": [
        {
          "output_type": "execute_result",
          "data": {
            "text/plain": [
              "                                                  text  label\n",
              "1    When I put this movie in my DVD player, and sa...      0\n",
              "4    Im a die hard Dads Army fan and nothing will e...      1\n",
              "5    A terrible movie as everyone has said. What ma...      0\n",
              "6    Finally watched this shocking movie last night...      1\n",
              "7    I caught this film on AZN on cable. It sounded...      0\n",
              "..                                                 ...    ...\n",
              "587  CAUTION: Potential Spoilers Ahead!<br /><br />...      1\n",
              "590  And a rather Unexpected plot line too-for the ...      1\n",
              "591  \"TNT Jackson\" isn't completely unwatchable. Bu...      0\n",
              "593  I have not seen the first film and if it anyth...      0\n",
              "598  Critics have started calling it the Oscar Winn...      0\n",
              "\n",
              "[351 rows x 2 columns]"
            ],
            "text/html": [
              "\n",
              "  <div id=\"df-036e328a-f708-43e2-9e9f-e80d1bcac481\" class=\"colab-df-container\">\n",
              "    <div>\n",
              "<style scoped>\n",
              "    .dataframe tbody tr th:only-of-type {\n",
              "        vertical-align: middle;\n",
              "    }\n",
              "\n",
              "    .dataframe tbody tr th {\n",
              "        vertical-align: top;\n",
              "    }\n",
              "\n",
              "    .dataframe thead th {\n",
              "        text-align: right;\n",
              "    }\n",
              "</style>\n",
              "<table border=\"1\" class=\"dataframe\">\n",
              "  <thead>\n",
              "    <tr style=\"text-align: right;\">\n",
              "      <th></th>\n",
              "      <th>text</th>\n",
              "      <th>label</th>\n",
              "    </tr>\n",
              "  </thead>\n",
              "  <tbody>\n",
              "    <tr>\n",
              "      <th>1</th>\n",
              "      <td>When I put this movie in my DVD player, and sa...</td>\n",
              "      <td>0</td>\n",
              "    </tr>\n",
              "    <tr>\n",
              "      <th>4</th>\n",
              "      <td>Im a die hard Dads Army fan and nothing will e...</td>\n",
              "      <td>1</td>\n",
              "    </tr>\n",
              "    <tr>\n",
              "      <th>5</th>\n",
              "      <td>A terrible movie as everyone has said. What ma...</td>\n",
              "      <td>0</td>\n",
              "    </tr>\n",
              "    <tr>\n",
              "      <th>6</th>\n",
              "      <td>Finally watched this shocking movie last night...</td>\n",
              "      <td>1</td>\n",
              "    </tr>\n",
              "    <tr>\n",
              "      <th>7</th>\n",
              "      <td>I caught this film on AZN on cable. It sounded...</td>\n",
              "      <td>0</td>\n",
              "    </tr>\n",
              "    <tr>\n",
              "      <th>...</th>\n",
              "      <td>...</td>\n",
              "      <td>...</td>\n",
              "    </tr>\n",
              "    <tr>\n",
              "      <th>587</th>\n",
              "      <td>CAUTION: Potential Spoilers Ahead!&lt;br /&gt;&lt;br /&gt;...</td>\n",
              "      <td>1</td>\n",
              "    </tr>\n",
              "    <tr>\n",
              "      <th>590</th>\n",
              "      <td>And a rather Unexpected plot line too-for the ...</td>\n",
              "      <td>1</td>\n",
              "    </tr>\n",
              "    <tr>\n",
              "      <th>591</th>\n",
              "      <td>\"TNT Jackson\" isn't completely unwatchable. Bu...</td>\n",
              "      <td>0</td>\n",
              "    </tr>\n",
              "    <tr>\n",
              "      <th>593</th>\n",
              "      <td>I have not seen the first film and if it anyth...</td>\n",
              "      <td>0</td>\n",
              "    </tr>\n",
              "    <tr>\n",
              "      <th>598</th>\n",
              "      <td>Critics have started calling it the Oscar Winn...</td>\n",
              "      <td>0</td>\n",
              "    </tr>\n",
              "  </tbody>\n",
              "</table>\n",
              "<p>351 rows × 2 columns</p>\n",
              "</div>\n",
              "    <div class=\"colab-df-buttons\">\n",
              "\n",
              "  <div class=\"colab-df-container\">\n",
              "    <button class=\"colab-df-convert\" onclick=\"convertToInteractive('df-036e328a-f708-43e2-9e9f-e80d1bcac481')\"\n",
              "            title=\"Convert this dataframe to an interactive table.\"\n",
              "            style=\"display:none;\">\n",
              "\n",
              "  <svg xmlns=\"http://www.w3.org/2000/svg\" height=\"24px\" viewBox=\"0 -960 960 960\">\n",
              "    <path d=\"M120-120v-720h720v720H120Zm60-500h600v-160H180v160Zm220 220h160v-160H400v160Zm0 220h160v-160H400v160ZM180-400h160v-160H180v160Zm440 0h160v-160H620v160ZM180-180h160v-160H180v160Zm440 0h160v-160H620v160Z\"/>\n",
              "  </svg>\n",
              "    </button>\n",
              "\n",
              "  <style>\n",
              "    .colab-df-container {\n",
              "      display:flex;\n",
              "      gap: 12px;\n",
              "    }\n",
              "\n",
              "    .colab-df-convert {\n",
              "      background-color: #E8F0FE;\n",
              "      border: none;\n",
              "      border-radius: 50%;\n",
              "      cursor: pointer;\n",
              "      display: none;\n",
              "      fill: #1967D2;\n",
              "      height: 32px;\n",
              "      padding: 0 0 0 0;\n",
              "      width: 32px;\n",
              "    }\n",
              "\n",
              "    .colab-df-convert:hover {\n",
              "      background-color: #E2EBFA;\n",
              "      box-shadow: 0px 1px 2px rgba(60, 64, 67, 0.3), 0px 1px 3px 1px rgba(60, 64, 67, 0.15);\n",
              "      fill: #174EA6;\n",
              "    }\n",
              "\n",
              "    .colab-df-buttons div {\n",
              "      margin-bottom: 4px;\n",
              "    }\n",
              "\n",
              "    [theme=dark] .colab-df-convert {\n",
              "      background-color: #3B4455;\n",
              "      fill: #D2E3FC;\n",
              "    }\n",
              "\n",
              "    [theme=dark] .colab-df-convert:hover {\n",
              "      background-color: #434B5C;\n",
              "      box-shadow: 0px 1px 3px 1px rgba(0, 0, 0, 0.15);\n",
              "      filter: drop-shadow(0px 1px 2px rgba(0, 0, 0, 0.3));\n",
              "      fill: #FFFFFF;\n",
              "    }\n",
              "  </style>\n",
              "\n",
              "    <script>\n",
              "      const buttonEl =\n",
              "        document.querySelector('#df-036e328a-f708-43e2-9e9f-e80d1bcac481 button.colab-df-convert');\n",
              "      buttonEl.style.display =\n",
              "        google.colab.kernel.accessAllowed ? 'block' : 'none';\n",
              "\n",
              "      async function convertToInteractive(key) {\n",
              "        const element = document.querySelector('#df-036e328a-f708-43e2-9e9f-e80d1bcac481');\n",
              "        const dataTable =\n",
              "          await google.colab.kernel.invokeFunction('convertToInteractive',\n",
              "                                                    [key], {});\n",
              "        if (!dataTable) return;\n",
              "\n",
              "        const docLinkHtml = 'Like what you see? Visit the ' +\n",
              "          '<a target=\"_blank\" href=https://colab.research.google.com/notebooks/data_table.ipynb>data table notebook</a>'\n",
              "          + ' to learn more about interactive tables.';\n",
              "        element.innerHTML = '';\n",
              "        dataTable['output_type'] = 'display_data';\n",
              "        await google.colab.output.renderOutput(dataTable, element);\n",
              "        const docLink = document.createElement('div');\n",
              "        docLink.innerHTML = docLinkHtml;\n",
              "        element.appendChild(docLink);\n",
              "      }\n",
              "    </script>\n",
              "  </div>\n",
              "\n",
              "\n",
              "    <div id=\"df-57f2ccdc-4a44-4106-a7a8-35e4b4f9d9a7\">\n",
              "      <button class=\"colab-df-quickchart\" onclick=\"quickchart('df-57f2ccdc-4a44-4106-a7a8-35e4b4f9d9a7')\"\n",
              "                title=\"Suggest charts\"\n",
              "                style=\"display:none;\">\n",
              "\n",
              "<svg xmlns=\"http://www.w3.org/2000/svg\" height=\"24px\"viewBox=\"0 0 24 24\"\n",
              "     width=\"24px\">\n",
              "    <g>\n",
              "        <path d=\"M19 3H5c-1.1 0-2 .9-2 2v14c0 1.1.9 2 2 2h14c1.1 0 2-.9 2-2V5c0-1.1-.9-2-2-2zM9 17H7v-7h2v7zm4 0h-2V7h2v10zm4 0h-2v-4h2v4z\"/>\n",
              "    </g>\n",
              "</svg>\n",
              "      </button>\n",
              "\n",
              "<style>\n",
              "  .colab-df-quickchart {\n",
              "      --bg-color: #E8F0FE;\n",
              "      --fill-color: #1967D2;\n",
              "      --hover-bg-color: #E2EBFA;\n",
              "      --hover-fill-color: #174EA6;\n",
              "      --disabled-fill-color: #AAA;\n",
              "      --disabled-bg-color: #DDD;\n",
              "  }\n",
              "\n",
              "  [theme=dark] .colab-df-quickchart {\n",
              "      --bg-color: #3B4455;\n",
              "      --fill-color: #D2E3FC;\n",
              "      --hover-bg-color: #434B5C;\n",
              "      --hover-fill-color: #FFFFFF;\n",
              "      --disabled-bg-color: #3B4455;\n",
              "      --disabled-fill-color: #666;\n",
              "  }\n",
              "\n",
              "  .colab-df-quickchart {\n",
              "    background-color: var(--bg-color);\n",
              "    border: none;\n",
              "    border-radius: 50%;\n",
              "    cursor: pointer;\n",
              "    display: none;\n",
              "    fill: var(--fill-color);\n",
              "    height: 32px;\n",
              "    padding: 0;\n",
              "    width: 32px;\n",
              "  }\n",
              "\n",
              "  .colab-df-quickchart:hover {\n",
              "    background-color: var(--hover-bg-color);\n",
              "    box-shadow: 0 1px 2px rgba(60, 64, 67, 0.3), 0 1px 3px 1px rgba(60, 64, 67, 0.15);\n",
              "    fill: var(--button-hover-fill-color);\n",
              "  }\n",
              "\n",
              "  .colab-df-quickchart-complete:disabled,\n",
              "  .colab-df-quickchart-complete:disabled:hover {\n",
              "    background-color: var(--disabled-bg-color);\n",
              "    fill: var(--disabled-fill-color);\n",
              "    box-shadow: none;\n",
              "  }\n",
              "\n",
              "  .colab-df-spinner {\n",
              "    border: 2px solid var(--fill-color);\n",
              "    border-color: transparent;\n",
              "    border-bottom-color: var(--fill-color);\n",
              "    animation:\n",
              "      spin 1s steps(1) infinite;\n",
              "  }\n",
              "\n",
              "  @keyframes spin {\n",
              "    0% {\n",
              "      border-color: transparent;\n",
              "      border-bottom-color: var(--fill-color);\n",
              "      border-left-color: var(--fill-color);\n",
              "    }\n",
              "    20% {\n",
              "      border-color: transparent;\n",
              "      border-left-color: var(--fill-color);\n",
              "      border-top-color: var(--fill-color);\n",
              "    }\n",
              "    30% {\n",
              "      border-color: transparent;\n",
              "      border-left-color: var(--fill-color);\n",
              "      border-top-color: var(--fill-color);\n",
              "      border-right-color: var(--fill-color);\n",
              "    }\n",
              "    40% {\n",
              "      border-color: transparent;\n",
              "      border-right-color: var(--fill-color);\n",
              "      border-top-color: var(--fill-color);\n",
              "    }\n",
              "    60% {\n",
              "      border-color: transparent;\n",
              "      border-right-color: var(--fill-color);\n",
              "    }\n",
              "    80% {\n",
              "      border-color: transparent;\n",
              "      border-right-color: var(--fill-color);\n",
              "      border-bottom-color: var(--fill-color);\n",
              "    }\n",
              "    90% {\n",
              "      border-color: transparent;\n",
              "      border-bottom-color: var(--fill-color);\n",
              "    }\n",
              "  }\n",
              "</style>\n",
              "\n",
              "      <script>\n",
              "        async function quickchart(key) {\n",
              "          const quickchartButtonEl =\n",
              "            document.querySelector('#' + key + ' button');\n",
              "          quickchartButtonEl.disabled = true;  // To prevent multiple clicks.\n",
              "          quickchartButtonEl.classList.add('colab-df-spinner');\n",
              "          try {\n",
              "            const charts = await google.colab.kernel.invokeFunction(\n",
              "                'suggestCharts', [key], {});\n",
              "          } catch (error) {\n",
              "            console.error('Error during call to suggestCharts:', error);\n",
              "          }\n",
              "          quickchartButtonEl.classList.remove('colab-df-spinner');\n",
              "          quickchartButtonEl.classList.add('colab-df-quickchart-complete');\n",
              "        }\n",
              "        (() => {\n",
              "          let quickchartButtonEl =\n",
              "            document.querySelector('#df-57f2ccdc-4a44-4106-a7a8-35e4b4f9d9a7 button');\n",
              "          quickchartButtonEl.style.display =\n",
              "            google.colab.kernel.accessAllowed ? 'block' : 'none';\n",
              "        })();\n",
              "      </script>\n",
              "    </div>\n",
              "\n",
              "    </div>\n",
              "  </div>\n"
            ],
            "application/vnd.google.colaboratory.intrinsic+json": {
              "type": "dataframe",
              "summary": "{\n  \"name\": \"train[train['text']\",\n  \"rows\": 351,\n  \"fields\": [\n    {\n      \"column\": \"text\",\n      \"properties\": {\n        \"dtype\": \"string\",\n        \"num_unique_values\": 351,\n        \"samples\": [\n          \"I got this movie out a week after the death of Ichikawa Kon - I suppose if there is one way to mark the passing of a great director, its to raise a glass of wine to him while watching one of his greatest movies. Ichikawa had one of the finest careers in Japanese film, but as he never had a distinctive style or theme he often seems to be overlooked compared to his near contemporaries such as Ozu and Kurosawa (he was a little younger than them, but not by much). He is one of those directors who defies auteur theories - its likely that his wife (who wrote the screenplay for this and many other of his movies) was as much responsible for the quality of the movies as he was. But at his best, he was as good as any Japanese film maker at the time. In particular, he had great technical skills, allowing him to tell complex stories in an accessible manner. But in terms of theme, this movie could hardly be simpler - war is hell. No really, its seriously hell.<br /><br />Fire on the Plain doesn't follow the normal war genre rules. There is no real beginning - we start as the wretched Tamura, who is a regular private (although it is implied he is more thoughtful and educated than most of the others - at one stage it is shown he understands English, but he clams up when the others ask him how he knows it) is ordered to hospital, as his unit is already in an appalling state. The soldiers are defeated and starving to death. They are no longer an army, just a rag bag group of refugees - hunted by the locals, and pretty much ignored by the Americans, who have bigger fish to fry. Hunger and despair is driving the soldiers to the edge and beyond of madness.<br /><br />In typical Ichikawa style, its not all just grim - its oddly funny in parts (a very black humour of course).<br /><br />The high points of this movie to me are the outstanding performances from the leads and the vivid photography. The characters, in all their humanity, but also their complete loss of humanity, are all too believable. This is that rare film - one which will refuse to erase itself from your head, even if you want to forget it.\",\n          \"Odd one should be able to stumble into \\\"Classe Tous Risques\\\" only by chance; it should be on any \\\"best of film-noir\\\" list, including IMDb's.<br /><br />Lino Ventura is as good as ever; knowing of his dire, delicate family situation gives extra weight to his almost expressionless face and brief dialogues. Belmondo's restrained performance under Sautet's firm direction only shows what a wonderful actor he could - and should -have been.<br /><br />\\\"Classe Tous Risques\\\" is utterly mininal, dry and cold, without Melville's artistic scenery, pretty faces and fancy cars. It is almost film-noir meet neo-realism. Davos' few, hard words to his children describing their life of secrecy from there on get a hold on your throat to the end of the film. <br /><br />The final sentence of the film - a voice-over telling of Davos' end in no more than ten dry, sombre words - leaves you with a hard punch in the stomach.<br /><br />A true jewel in the great crown of French film-noir.\",\n          \"I'm writing this note as a chess player as well as as a movie viewer. I watched the 1997 Kasparov-Deep Blue games on the Internet. I know something about the issues that were raised. Other chess players will come along and want to know whether this movie is worth seeing/buying, and I'm talking largely to them. However, I'll try not to ignore those who aren't \\\"into chess\\\".<br /><br />This movie is about the 1997 match between Garry Kasparov and the custom-built computer \\\"Deep Blue\\\". However, the first image you see in the movie is not of Kasparov, or of the computer, but of \\\"THE TURK\\\". This is an \\\"automaton\\\" which was built in Europe at the turn of the 18th-19th century and played winning chess against all comers. I put the word \\\"automaton\\\" in quotes because it was, as everyone now knows, a fake. There was a man inside it.<br /><br />If you don't like seeing \\\"THE TURK\\\", then you won't be able to stand the movie, because \\\"THE TURK\\\" has as much screen time as Kasparov, maybe more, both in modern footage and in b/w footage from some old movie. The reappearance of \\\"THE TURK\\\" every few seconds underscores Kasparov's charge that \\\"Deep Blue\\\" had human assistance - that it was (to some degree) a fake computer, that IBM cheated, that there was \\\"a man inside it\\\" working behind the scenes to help it win. Not only does Kasparov believe this, but the filmmakers seem to believe it too. And so this is not really much of a movie about chess games or about programming chess computers. It is a propaganda piece about a big corporation supposedly misusing a helpless grandmaster. Really it is a lot like a \\\"negative campaign ad\\\", as it is chock full of ominous music and evocative camera work and spooky sound effects and innuendos (\\\"we never found out what was behind that locked door\\\") and the ever-present \\\"TURK\\\".<br /><br />Now, most people in the chess community are pretty much convinced that IBM did not cheat and that this was Garry's paranoia at work. To start with, in order for a human to help \\\"Deep Blue\\\" beat Kasparov, it would seem that you would need a human who was better than \\\"Deep Blue\\\" AND better than Kasparov. Since there was no such person, the whole idea is a bit suspect from the start. Furthermore, by the time this movie was made, there were computer programs that could run on your PC that could beat strong grandmasters. Today, much more than in 1997, we take it for granted that a computer can do things you might not expect. And we are less likely to take it as a monumental human tragedy that a computer beat a guy in chess. (And in fact, the bottom line is that Kasparov beat himself with two bad mistakes, including resigning game 2 in a drawn position.) <br /><br />As for the chess games, you actually see very little of them. There are a few comments from masters and commentators that tell briefly how they went, but really you don't get to see hardly any of the strategy or tactics at all. Naturally as a chess player I take this as a major shortcoming, but I think that non-players are being cheated too. Imagine a baseball movie, for example, where you don't hardly get to see any of the game - just a commentator telling you that \\\"in Game Four, the White Sox defeated the Astros with such and such a score.\\\" Nobody would make a movie like that. But here, for example, we are told that Kasparov made a bad blunder in the opening of the decisive game 6, but we aren't shown the position on the screen, or told why it was a blunder, or what he should have done instead, or anything. We just see a few seconds of Kasparov holding his head in his hands, and then more atmospheric sound effects and camera work.<br /><br />(Since I saw this on DVD, let me warn chess players about the DVD as well. The jacket promises you that the Extras include the games \\\"with analysis\\\". Is this grandmaster analysis, which people like us might find interesting? NO! It is the automated computer voice synthesizer analysis from some version of Chessmaster, that tells you when a piece is attacked and a pawn gets isolated and that you are in the \\\"Caro-Kann Defense, Main Line\\\". Blahhhh.) <br /><br />Someone might then come along and say, \\\"Well, clearly this movie is meant to dramatize the match for the non-player, and so it's unfair to be impatient with it.\\\" But actually it doesn't do a very good job of reaching out to the non-player either - it skates over some points that a true novice would really want to have explained. For example it says that Kasparov could have gotten \\\"perpetual check\\\" in the second game, but it doesn't explain what that is (or show what it would have looked like on the board, which would have been interesting). It flashes back to the Kasparov-Karpov matches but doesn't explain why there were two of them or who organized them etc. I didn't need this information myself, but I'm familiar with it. If you don't already have chess experience, there are places where you are going to be confused, and this is just a defect in the film.<br /><br />Ultimately I can't recommend the movie, which, like \\\"THE TURK\\\" itself, is not what it purports to be (a documentary) but more of a stage illusion.\"\n        ],\n        \"semantic_type\": \"\",\n        \"description\": \"\"\n      }\n    },\n    {\n      \"column\": \"label\",\n      \"properties\": {\n        \"dtype\": \"number\",\n        \"std\": 0,\n        \"min\": 0,\n        \"max\": 1,\n        \"num_unique_values\": 2,\n        \"samples\": [\n          1,\n          0\n        ],\n        \"semantic_type\": \"\",\n        \"description\": \"\"\n      }\n    }\n  ]\n}"
            }
          },
          "metadata": {},
          "execution_count": 55
        }
      ]
    },
    {
      "cell_type": "code",
      "source": [
        "# Define a function to clean the data\n",
        "def clean_text(text):\n",
        "    \"\"\"\n",
        "    A function to remove HTML tags, symbols, and stopwords in a movie review\n",
        "\n",
        "    Return: Sentence in lowercase with lemmatized words.\n",
        "    \"\"\"\n",
        "    lemmatizer = WordNetLemmatizer()\n",
        "    text = BeautifulSoup(text, \"html.parser\").get_text()  # remove html tags\n",
        "    # text = re.sub(r'[^\\w\\s]', '', text.lower()) # remove punctuations and symbols\n",
        "    # stops = set(stopwords.words('english'))\n",
        "    # # tokens = [lemmatizer.lemmatize(word) for word in text.split() if word not in stops] #lemmatize and remove stop words\n",
        "    # tokens = [word for word in text.split() if word not in stops]\n",
        "    # text = ' '.join(tokens)\n",
        "    return text"
      ],
      "metadata": {
        "id": "Bu8KOemxhjtO"
      },
      "execution_count": null,
      "outputs": []
    },
    {
      "cell_type": "code",
      "source": [
        "train['text'] = train['text'].apply(clean_text)"
      ],
      "metadata": {
        "id": "vhKJRkyukxJO"
      },
      "execution_count": null,
      "outputs": []
    },
    {
      "cell_type": "code",
      "source": [
        "y = train.pop('label')\n",
        "X = train"
      ],
      "metadata": {
        "id": "roTlYNyLCpiQ"
      },
      "execution_count": null,
      "outputs": []
    },
    {
      "cell_type": "code",
      "source": [
        "# Split dataset into train and test sets\n",
        "X_train,X_test, y_train, y_test = train_test_split(X, y, test_size=0.2, random_state=42)\n",
        "X_train, X_val, y_train, y_val = train_test_split(X_train, y_train, test_size=0.2, random_state=10)\n",
        "X_train.head()"
      ],
      "metadata": {
        "colab": {
          "base_uri": "https://localhost:8080/",
          "height": 206
        },
        "id": "X5E1QsdDCxUz",
        "outputId": "c291fc67-87f3-4350-81a6-12a613cfcd7f"
      },
      "execution_count": null,
      "outputs": [
        {
          "output_type": "execute_result",
          "data": {
            "text/plain": [
              "                                                  text\n",
              "133  this show disturbs me. it takes up slots on ni...\n",
              "303  Before this made for TV movie began, I had rel...\n",
              "339  (Spoilers)Oh sure it's based on Moby Dick. Tot...\n",
              "458  It used to be my thinking that movies required...\n",
              "568  My brother is in love with this show, let's ge..."
            ],
            "text/html": [
              "\n",
              "  <div id=\"df-7f624cfe-0f0d-4086-b132-ceb0d3e2846f\" class=\"colab-df-container\">\n",
              "    <div>\n",
              "<style scoped>\n",
              "    .dataframe tbody tr th:only-of-type {\n",
              "        vertical-align: middle;\n",
              "    }\n",
              "\n",
              "    .dataframe tbody tr th {\n",
              "        vertical-align: top;\n",
              "    }\n",
              "\n",
              "    .dataframe thead th {\n",
              "        text-align: right;\n",
              "    }\n",
              "</style>\n",
              "<table border=\"1\" class=\"dataframe\">\n",
              "  <thead>\n",
              "    <tr style=\"text-align: right;\">\n",
              "      <th></th>\n",
              "      <th>text</th>\n",
              "    </tr>\n",
              "  </thead>\n",
              "  <tbody>\n",
              "    <tr>\n",
              "      <th>133</th>\n",
              "      <td>this show disturbs me. it takes up slots on ni...</td>\n",
              "    </tr>\n",
              "    <tr>\n",
              "      <th>303</th>\n",
              "      <td>Before this made for TV movie began, I had rel...</td>\n",
              "    </tr>\n",
              "    <tr>\n",
              "      <th>339</th>\n",
              "      <td>(Spoilers)Oh sure it's based on Moby Dick. Tot...</td>\n",
              "    </tr>\n",
              "    <tr>\n",
              "      <th>458</th>\n",
              "      <td>It used to be my thinking that movies required...</td>\n",
              "    </tr>\n",
              "    <tr>\n",
              "      <th>568</th>\n",
              "      <td>My brother is in love with this show, let's ge...</td>\n",
              "    </tr>\n",
              "  </tbody>\n",
              "</table>\n",
              "</div>\n",
              "    <div class=\"colab-df-buttons\">\n",
              "\n",
              "  <div class=\"colab-df-container\">\n",
              "    <button class=\"colab-df-convert\" onclick=\"convertToInteractive('df-7f624cfe-0f0d-4086-b132-ceb0d3e2846f')\"\n",
              "            title=\"Convert this dataframe to an interactive table.\"\n",
              "            style=\"display:none;\">\n",
              "\n",
              "  <svg xmlns=\"http://www.w3.org/2000/svg\" height=\"24px\" viewBox=\"0 -960 960 960\">\n",
              "    <path d=\"M120-120v-720h720v720H120Zm60-500h600v-160H180v160Zm220 220h160v-160H400v160Zm0 220h160v-160H400v160ZM180-400h160v-160H180v160Zm440 0h160v-160H620v160ZM180-180h160v-160H180v160Zm440 0h160v-160H620v160Z\"/>\n",
              "  </svg>\n",
              "    </button>\n",
              "\n",
              "  <style>\n",
              "    .colab-df-container {\n",
              "      display:flex;\n",
              "      gap: 12px;\n",
              "    }\n",
              "\n",
              "    .colab-df-convert {\n",
              "      background-color: #E8F0FE;\n",
              "      border: none;\n",
              "      border-radius: 50%;\n",
              "      cursor: pointer;\n",
              "      display: none;\n",
              "      fill: #1967D2;\n",
              "      height: 32px;\n",
              "      padding: 0 0 0 0;\n",
              "      width: 32px;\n",
              "    }\n",
              "\n",
              "    .colab-df-convert:hover {\n",
              "      background-color: #E2EBFA;\n",
              "      box-shadow: 0px 1px 2px rgba(60, 64, 67, 0.3), 0px 1px 3px 1px rgba(60, 64, 67, 0.15);\n",
              "      fill: #174EA6;\n",
              "    }\n",
              "\n",
              "    .colab-df-buttons div {\n",
              "      margin-bottom: 4px;\n",
              "    }\n",
              "\n",
              "    [theme=dark] .colab-df-convert {\n",
              "      background-color: #3B4455;\n",
              "      fill: #D2E3FC;\n",
              "    }\n",
              "\n",
              "    [theme=dark] .colab-df-convert:hover {\n",
              "      background-color: #434B5C;\n",
              "      box-shadow: 0px 1px 3px 1px rgba(0, 0, 0, 0.15);\n",
              "      filter: drop-shadow(0px 1px 2px rgba(0, 0, 0, 0.3));\n",
              "      fill: #FFFFFF;\n",
              "    }\n",
              "  </style>\n",
              "\n",
              "    <script>\n",
              "      const buttonEl =\n",
              "        document.querySelector('#df-7f624cfe-0f0d-4086-b132-ceb0d3e2846f button.colab-df-convert');\n",
              "      buttonEl.style.display =\n",
              "        google.colab.kernel.accessAllowed ? 'block' : 'none';\n",
              "\n",
              "      async function convertToInteractive(key) {\n",
              "        const element = document.querySelector('#df-7f624cfe-0f0d-4086-b132-ceb0d3e2846f');\n",
              "        const dataTable =\n",
              "          await google.colab.kernel.invokeFunction('convertToInteractive',\n",
              "                                                    [key], {});\n",
              "        if (!dataTable) return;\n",
              "\n",
              "        const docLinkHtml = 'Like what you see? Visit the ' +\n",
              "          '<a target=\"_blank\" href=https://colab.research.google.com/notebooks/data_table.ipynb>data table notebook</a>'\n",
              "          + ' to learn more about interactive tables.';\n",
              "        element.innerHTML = '';\n",
              "        dataTable['output_type'] = 'display_data';\n",
              "        await google.colab.output.renderOutput(dataTable, element);\n",
              "        const docLink = document.createElement('div');\n",
              "        docLink.innerHTML = docLinkHtml;\n",
              "        element.appendChild(docLink);\n",
              "      }\n",
              "    </script>\n",
              "  </div>\n",
              "\n",
              "\n",
              "    <div id=\"df-58908e92-5944-47b9-a83f-dc48d32a72cc\">\n",
              "      <button class=\"colab-df-quickchart\" onclick=\"quickchart('df-58908e92-5944-47b9-a83f-dc48d32a72cc')\"\n",
              "                title=\"Suggest charts\"\n",
              "                style=\"display:none;\">\n",
              "\n",
              "<svg xmlns=\"http://www.w3.org/2000/svg\" height=\"24px\"viewBox=\"0 0 24 24\"\n",
              "     width=\"24px\">\n",
              "    <g>\n",
              "        <path d=\"M19 3H5c-1.1 0-2 .9-2 2v14c0 1.1.9 2 2 2h14c1.1 0 2-.9 2-2V5c0-1.1-.9-2-2-2zM9 17H7v-7h2v7zm4 0h-2V7h2v10zm4 0h-2v-4h2v4z\"/>\n",
              "    </g>\n",
              "</svg>\n",
              "      </button>\n",
              "\n",
              "<style>\n",
              "  .colab-df-quickchart {\n",
              "      --bg-color: #E8F0FE;\n",
              "      --fill-color: #1967D2;\n",
              "      --hover-bg-color: #E2EBFA;\n",
              "      --hover-fill-color: #174EA6;\n",
              "      --disabled-fill-color: #AAA;\n",
              "      --disabled-bg-color: #DDD;\n",
              "  }\n",
              "\n",
              "  [theme=dark] .colab-df-quickchart {\n",
              "      --bg-color: #3B4455;\n",
              "      --fill-color: #D2E3FC;\n",
              "      --hover-bg-color: #434B5C;\n",
              "      --hover-fill-color: #FFFFFF;\n",
              "      --disabled-bg-color: #3B4455;\n",
              "      --disabled-fill-color: #666;\n",
              "  }\n",
              "\n",
              "  .colab-df-quickchart {\n",
              "    background-color: var(--bg-color);\n",
              "    border: none;\n",
              "    border-radius: 50%;\n",
              "    cursor: pointer;\n",
              "    display: none;\n",
              "    fill: var(--fill-color);\n",
              "    height: 32px;\n",
              "    padding: 0;\n",
              "    width: 32px;\n",
              "  }\n",
              "\n",
              "  .colab-df-quickchart:hover {\n",
              "    background-color: var(--hover-bg-color);\n",
              "    box-shadow: 0 1px 2px rgba(60, 64, 67, 0.3), 0 1px 3px 1px rgba(60, 64, 67, 0.15);\n",
              "    fill: var(--button-hover-fill-color);\n",
              "  }\n",
              "\n",
              "  .colab-df-quickchart-complete:disabled,\n",
              "  .colab-df-quickchart-complete:disabled:hover {\n",
              "    background-color: var(--disabled-bg-color);\n",
              "    fill: var(--disabled-fill-color);\n",
              "    box-shadow: none;\n",
              "  }\n",
              "\n",
              "  .colab-df-spinner {\n",
              "    border: 2px solid var(--fill-color);\n",
              "    border-color: transparent;\n",
              "    border-bottom-color: var(--fill-color);\n",
              "    animation:\n",
              "      spin 1s steps(1) infinite;\n",
              "  }\n",
              "\n",
              "  @keyframes spin {\n",
              "    0% {\n",
              "      border-color: transparent;\n",
              "      border-bottom-color: var(--fill-color);\n",
              "      border-left-color: var(--fill-color);\n",
              "    }\n",
              "    20% {\n",
              "      border-color: transparent;\n",
              "      border-left-color: var(--fill-color);\n",
              "      border-top-color: var(--fill-color);\n",
              "    }\n",
              "    30% {\n",
              "      border-color: transparent;\n",
              "      border-left-color: var(--fill-color);\n",
              "      border-top-color: var(--fill-color);\n",
              "      border-right-color: var(--fill-color);\n",
              "    }\n",
              "    40% {\n",
              "      border-color: transparent;\n",
              "      border-right-color: var(--fill-color);\n",
              "      border-top-color: var(--fill-color);\n",
              "    }\n",
              "    60% {\n",
              "      border-color: transparent;\n",
              "      border-right-color: var(--fill-color);\n",
              "    }\n",
              "    80% {\n",
              "      border-color: transparent;\n",
              "      border-right-color: var(--fill-color);\n",
              "      border-bottom-color: var(--fill-color);\n",
              "    }\n",
              "    90% {\n",
              "      border-color: transparent;\n",
              "      border-bottom-color: var(--fill-color);\n",
              "    }\n",
              "  }\n",
              "</style>\n",
              "\n",
              "      <script>\n",
              "        async function quickchart(key) {\n",
              "          const quickchartButtonEl =\n",
              "            document.querySelector('#' + key + ' button');\n",
              "          quickchartButtonEl.disabled = true;  // To prevent multiple clicks.\n",
              "          quickchartButtonEl.classList.add('colab-df-spinner');\n",
              "          try {\n",
              "            const charts = await google.colab.kernel.invokeFunction(\n",
              "                'suggestCharts', [key], {});\n",
              "          } catch (error) {\n",
              "            console.error('Error during call to suggestCharts:', error);\n",
              "          }\n",
              "          quickchartButtonEl.classList.remove('colab-df-spinner');\n",
              "          quickchartButtonEl.classList.add('colab-df-quickchart-complete');\n",
              "        }\n",
              "        (() => {\n",
              "          let quickchartButtonEl =\n",
              "            document.querySelector('#df-58908e92-5944-47b9-a83f-dc48d32a72cc button');\n",
              "          quickchartButtonEl.style.display =\n",
              "            google.colab.kernel.accessAllowed ? 'block' : 'none';\n",
              "        })();\n",
              "      </script>\n",
              "    </div>\n",
              "\n",
              "    </div>\n",
              "  </div>\n"
            ],
            "application/vnd.google.colaboratory.intrinsic+json": {
              "type": "dataframe",
              "variable_name": "X_train",
              "summary": "{\n  \"name\": \"X_train\",\n  \"rows\": 384,\n  \"fields\": [\n    {\n      \"column\": \"text\",\n      \"properties\": {\n        \"dtype\": \"string\",\n        \"num_unique_values\": 384,\n        \"samples\": [\n          \"...I saw this movie when it first came out in France, in my hometown, 54 years ago, I was nine, and today I still remember each black and white frame, especially the black ones, because it was so tense, scary, those sneaking attacks through that dark pass in the mountain, the two soldiers, prisoners forced to fight each other by their captors, the last battle with the uncovering of the wagon with the Gatling in it firing away, the last fight between Peck and the chief, and the Happy End which let me take back my breath. I haven't seen it since then, and I don't know if it would be a good idea to see it again today, it was such a fabulous moment for the kid I was.\",\n          \"It may be the remake of 1987 Autumn's Tale after eleven years, as the director Mabel Cheung claimed. Mabel employs rock music as the medium in this movie to express her personal attitude to life, in which love, desire and the consequential frustration play significantly crucial roles. Rock music may not be the best vehicle to convey the profound sentiment, and yet it is not too inappropriate to utilize it as the life of underground rock musicians is bitterly more intense than an ordinary one. The director focuses on the depiction of subtle affection and ultimate vanity of life rather than mere rock music. The love between father and son, lovers, and friends is delicately and touchingly delivered through the fine performance. Mabel does not attempt to beautify rock musicians as artists at all, instead, she tries to reproduce a true life on screen, making huge efforts of years' working on this project and gathering information in Beijing underground pubs.Daniel has given probably the best performance in all his movies made so far. His innate dispiritedness and reticence fit the blue mood of the film perfectly.\",\n          \"A weird, witty and wonderful depiction of family life! Writer Andrew Marshall has written something that is funny, foreboding and occasionally frightening! Yes, don't be fooled by 2point4 children's cheerful tune and bubbly characters; the show has a dark side, and at times can be quite chilling. And that's what's so good about the show, it's not just a simplistic sitcom where every character is a 2D comic device (the case with My Family). Instead the characters are fully rounded individuals that show the full roller-coaster of human emotions. The occasionally dark moments such as Bill being supposedly haunted by a curse and Ben waking up in a bizarre village are two examples of the show taking a surreal, dark turn, that help add a little depth. Of course the show is also incredibly funny, and is a guaranteed to make you smile. It's a real shame Eureka Video have stopped releasing this comical gold on DVD. Veoh.com is your last hope to get hold of episodes unavliable in the shops.\"\n        ],\n        \"semantic_type\": \"\",\n        \"description\": \"\"\n      }\n    }\n  ]\n}"
            }
          },
          "metadata": {},
          "execution_count": 59
        }
      ]
    },
    {
      "cell_type": "code",
      "source": [
        "# Load pipeline from huggingface\n",
        "sentiment_pipeline = pipeline(\"sentiment-analysis\", framework='tf')"
      ],
      "metadata": {
        "colab": {
          "base_uri": "https://localhost:8080/"
        },
        "id": "ZjfCX9qM_5Bf",
        "outputId": "3b4a5cd3-0391-4fb3-9ea8-f97dbf955a69"
      },
      "execution_count": null,
      "outputs": [
        {
          "output_type": "stream",
          "name": "stderr",
          "text": [
            "No model was supplied, defaulted to distilbert/distilbert-base-uncased-finetuned-sst-2-english and revision 714eb0f (https://huggingface.co/distilbert/distilbert-base-uncased-finetuned-sst-2-english).\n",
            "Using a pipeline without specifying a model name and revision in production is not recommended.\n",
            "All PyTorch model weights were used when initializing TFDistilBertForSequenceClassification.\n",
            "\n",
            "All the weights of TFDistilBertForSequenceClassification were initialized from the PyTorch model.\n",
            "If your task is similar to the task the model of the checkpoint was trained on, you can already use TFDistilBertForSequenceClassification for predictions without further training.\n",
            "Device set to use 0\n"
          ]
        }
      ]
    },
    {
      "cell_type": "code",
      "source": [
        "Xtrain_enc = sentiment_pipeline.tokenizer(X_train['text'].tolist(),\n",
        "                         truncation=True, padding='max_length',\n",
        "                         add_special_tokens=True, return_tensors='tf') #return numpy object\n",
        "Xval_enc = sentiment_pipeline.tokenizer(X_val['text'].tolist(),\n",
        "                         truncation=True, padding='max_length',\n",
        "                         add_special_tokens=True, return_tensors='tf') #return numpy object\n",
        "Xtest_enc = sentiment_pipeline.tokenizer(X_test['text'].tolist(),\n",
        "                         truncation=True, padding='max_length',\n",
        "                         add_special_tokens=True, return_tensors='tf') #return numpy object"
      ],
      "metadata": {
        "id": "66XqmiFWF3mf"
      },
      "execution_count": null,
      "outputs": []
    },
    {
      "cell_type": "code",
      "source": [
        "#preparing datasets\n",
        "train_dataset = tf.data.Dataset.from_tensor_slices((\n",
        "    dict(Xtrain_enc),\n",
        "    y_train\n",
        "))\n",
        "val_dataset = tf.data.Dataset.from_tensor_slices((\n",
        "    dict(Xval_enc),\n",
        "    y_val\n",
        "))\n",
        "test_dataset = tf.data.Dataset.from_tensor_slices((\n",
        "    dict(Xtest_enc),\n",
        "    y_test\n",
        "))"
      ],
      "metadata": {
        "id": "WQyWR7fMGFQy"
      },
      "execution_count": null,
      "outputs": []
    },
    {
      "cell_type": "code",
      "source": [
        "# Iterate through the train_dataset and val_dataset in batches\n",
        "print(\"Training model...\")\n",
        "for batch in train_dataset.batch(32):  # Adjust batch size as needed\n",
        "    inputs, labels = batch\n",
        "    outputs = sentiment_pipeline.model(**inputs, labels=labels, training=True)  # Pass inputs as a dictionary\n",
        "    loss = outputs.loss\n",
        "    avg_loss = np.average(loss.numpy())\n",
        "    logits = outputs['logits']\n",
        "    predicted_labels = np.argmax(logits, axis=1)  # Get predicted labels\n",
        "    true_labels = labels.numpy()  # Convert labels to numpy\n",
        "\n",
        "    accuracy = np.sum(predicted_labels == true_labels) / len(true_labels)\n",
        "    print(f\"Accuracy: {accuracy}, loss: {avg_loss}\")\n",
        "\n",
        "print(\"Evaluating model...\")\n",
        "for batch in val_dataset.batch(32):  # Adjust batch size as needed\n",
        "    inputs, labels = batch\n",
        "    outputs = sentiment_pipeline.model(**inputs, labels=labels, training=False)  # Pass inputs as a dictionary\n",
        "    loss = outputs.loss\n",
        "    avg_loss = np.average(loss.numpy())\n",
        "    logits = outputs['logits']\n",
        "    predicted_labels = np.argmax(logits, axis=1)  # Get predicted labels\n",
        "    true_labels = labels.numpy()  # Convert labels to numpy\n",
        "\n",
        "    accuracy = np.sum(predicted_labels == true_labels) / len(true_labels)\n",
        "    print(f\"Accuracy: {accuracy}, loss: {avg_loss}\")"
      ],
      "metadata": {
        "colab": {
          "base_uri": "https://localhost:8080/"
        },
        "id": "7bxBUNNaQzVk",
        "outputId": "a348ff02-0f09-4561-f78c-0156135e57b9"
      },
      "execution_count": null,
      "outputs": [
        {
          "output_type": "stream",
          "name": "stdout",
          "text": [
            "Training model...\n",
            "Accuracy: 0.8125, loss: 0.5912861227989197\n",
            "Accuracy: 0.90625, loss: 0.23303820192813873\n",
            "Accuracy: 0.875, loss: 0.3096123933792114\n",
            "Accuracy: 0.96875, loss: 0.1952255368232727\n",
            "Accuracy: 0.875, loss: 0.563540518283844\n",
            "Accuracy: 0.84375, loss: 0.5638042688369751\n",
            "Accuracy: 0.90625, loss: 0.39489805698394775\n",
            "Accuracy: 0.875, loss: 0.5346162915229797\n",
            "Accuracy: 0.875, loss: 0.629936695098877\n",
            "Accuracy: 0.875, loss: 0.23509550094604492\n",
            "Accuracy: 0.96875, loss: 0.05074771121144295\n",
            "Accuracy: 0.875, loss: 0.34119388461112976\n",
            "Evaluating model...\n",
            "Accuracy: 0.90625, loss: 0.34193170070648193\n",
            "Accuracy: 0.875, loss: 0.47101297974586487\n",
            "Accuracy: 0.90625, loss: 0.2705419063568115\n"
          ]
        }
      ]
    },
    {
      "cell_type": "code",
      "source": [
        "print(\"Evaluating model...\")\n",
        "all_predictions = []  # Store predictions for all batches\n",
        "\n",
        "for batch in test_dataset.batch(32):\n",
        "    inputs, labels = batch\n",
        "    outputs = sentiment_pipeline.model(**inputs, labels=labels, training=False)\n",
        "    logits = outputs['logits']\n",
        "    predicted_labels = np.argmax(logits, axis=1)  # Get predicted labels\n",
        "    all_predictions.extend(predicted_labels)  # Add predictions for this batch\n",
        "\n",
        "accuracy = np.sum(np.array(all_predictions) == np.array(y_test.tolist())) / len(y_test)\n",
        "print(f\"Accuracy on test set: {accuracy}\")"
      ],
      "metadata": {
        "colab": {
          "base_uri": "https://localhost:8080/"
        },
        "id": "SGlcH2yTXcbV",
        "outputId": "a1811bc9-3357-4210-e436-8a68de5fc811"
      },
      "execution_count": null,
      "outputs": [
        {
          "output_type": "stream",
          "name": "stdout",
          "text": [
            "Evaluating model...\n",
            "Accuracy on test set: 0.9\n"
          ]
        }
      ]
    },
    {
      "cell_type": "code",
      "source": [
        "#Generate predictions for the test dataset\n",
        "ypred = sentiment_pipeline.model.predict(test_dataset.batch(32))\n",
        "ypred = np.argmax(ypred.logits, axis=1)\n",
        "\n",
        "#Get the confusion matrix\n",
        "cf_matrix = confusion_matrix(y_test, ypred)\n",
        "sns.heatmap(cf_matrix,annot = True,fmt ='g', cmap='Blues')\n",
        "plt.xlabel('Predicted label')\n",
        "plt.ylabel('True label')\n",
        "plt.show()"
      ],
      "metadata": {
        "colab": {
          "base_uri": "https://localhost:8080/",
          "height": 513
        },
        "id": "TI6kfrtThTyK",
        "outputId": "10e2fa07-8030-4861-e8fd-a8c39ff740c5"
      },
      "execution_count": null,
      "outputs": [
        {
          "output_type": "stream",
          "name": "stderr",
          "text": [
            "WARNING:tensorflow:5 out of the last 11 calls to <function Model.make_predict_function.<locals>.predict_function at 0x79426d062e80> triggered tf.function retracing. Tracing is expensive and the excessive number of tracings could be due to (1) creating @tf.function repeatedly in a loop, (2) passing tensors with different shapes, (3) passing Python objects instead of tensors. For (1), please define your @tf.function outside of the loop. For (2), @tf.function has reduce_retracing=True option that can avoid unnecessary retracing. For (3), please refer to https://www.tensorflow.org/guide/function#controlling_retracing and https://www.tensorflow.org/api_docs/python/tf/function for  more details.\n"
          ]
        },
        {
          "output_type": "stream",
          "name": "stdout",
          "text": [
            "4/4 [==============================] - 5s 590ms/step\n"
          ]
        },
        {
          "output_type": "display_data",
          "data": {
            "text/plain": [
              "<Figure size 640x480 with 2 Axes>"
            ],
            "image/png": "[encoded data removed]"
          },
          "metadata": {}
        }
      ]
    },
    {
      "cell_type": "code",
      "source": [
        "print(classification_report(y_test, ypred))"
      ],
      "metadata": {
        "colab": {
          "base_uri": "https://localhost:8080/"
        },
        "id": "y2txMBpJi7Yj",
        "outputId": "521722b9-db34-4979-db51-c045bcc2aa3a"
      },
      "execution_count": null,
      "outputs": [
        {
          "output_type": "stream",
          "name": "stdout",
          "text": [
            "              precision    recall  f1-score   support\n",
            "\n",
            "           0       0.87      0.95      0.91        65\n",
            "           1       0.94      0.84      0.88        55\n",
            "\n",
            "    accuracy                           0.90       120\n",
            "   macro avg       0.91      0.90      0.90       120\n",
            "weighted avg       0.90      0.90      0.90       120\n",
            "\n"
          ]
        }
      ]
    },
    {
      "cell_type": "code",
      "source": [
        "def predict_sentiment(review):\n",
        "  inputs = sentiment_pipeline.tokenizer(review,\n",
        "                                       truncation=True,\n",
        "                                       padding='max_length',\n",
        "                                       add_special_tokens=True,\n",
        "                                       return_tensors='tf')\n",
        "  y_pred = sentiment_pipeline.model.predict(inputs)\n",
        "  y_pred = np.argmax(y_pred.logits, axis=1)\n",
        "\n",
        "  if y_pred == 1:\n",
        "    print(\"Sentiment: Positive\")\n",
        "  else:\n",
        "    print(\"Sentiment: Negative\")"
      ],
      "metadata": {
        "id": "qU70kY7ilIum"
      },
      "execution_count": null,
      "outputs": []
    },
    {
      "cell_type": "code",
      "source": [
        "predict_sentiment(\"On Swift Horses stumbles a little bit on its way around what feels like an extremely rushed final lap, but this is still a winner\")"
      ],
      "metadata": {
        "colab": {
          "base_uri": "https://localhost:8080/"
        },
        "id": "QQTUinB2l65j",
        "outputId": "ec10cc3d-29bc-4ae1-b739-003b4cd9a514"
      },
      "execution_count": null,
      "outputs": [
        {
          "output_type": "stream",
          "name": "stderr",
          "text": [
            "WARNING:tensorflow:5 out of the last 11 calls to <function Model.make_predict_function.<locals>.predict_function at 0x79426d062e80> triggered tf.function retracing. Tracing is expensive and the excessive number of tracings could be due to (1) creating @tf.function repeatedly in a loop, (2) passing tensors with different shapes, (3) passing Python objects instead of tensors. For (1), please define your @tf.function outside of the loop. For (2), @tf.function has reduce_retracing=True option that can avoid unnecessary retracing. For (3), please refer to https://www.tensorflow.org/guide/function#controlling_retracing and https://www.tensorflow.org/api_docs/python/tf/function for  more details.\n"
          ]
        },
        {
          "output_type": "stream",
          "name": "stdout",
          "text": [
            "1/1 [==============================] - 3s 3s/step\n",
            "Sentiment: Positive\n"
          ]
        }
      ]
    },
    {
      "cell_type": "markdown",
      "source": [
        "The notebook contains a sentiment analysis task carried out on the IMDB dataset. The TFDistilBertForSequenceClassification model was used for classification. The preprocessing step include removing html tags from the text followed by preprocessing from the pretrained model.\n",
        "It was observed that the model had a lower performance when cleaning was performed before the texts were passed to the pretrained model, this may be due to the fact that the pretrained pipeline already included text cleaning"
      ],
      "metadata": {
        "id": "p1IkT352oEI0"
      }
    },
    {
      "cell_type": "code",
      "source": [],
      "metadata": {
        "id": "KcdmnNNDmSln"
      },
      "execution_count": null,
      "outputs": []
    }
  ]
}